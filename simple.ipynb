{
 "cells": [
  {
   "attachments": {},
   "cell_type": "markdown",
   "metadata": {},
   "source": [
    "# Service, PHYS and PHYSLITE\n",
    "\n",
    "This is a very quick demo - just showing off access to the ATLAS binary formats."
   ]
  },
  {
   "cell_type": "code",
   "execution_count": 1,
   "metadata": {},
   "outputs": [],
   "source": [
    "import matplotlib.pyplot as plt\n",
    "import awkward as ak"
   ]
  },
  {
   "attachments": {},
   "cell_type": "markdown",
   "metadata": {},
   "source": [
    "Next, we'll use the following two files as local inputs for our running:"
   ]
  },
  {
   "cell_type": "code",
   "execution_count": 2,
   "metadata": {},
   "outputs": [],
   "source": [
    "local_PHYS_r21 = r\"C:\\Users\\gordo\\Code\\atlas\\data\\asg\\mc_311321_physVal_Main.21.2.143.pool.root\"\n",
    "local_PHYSLITE_r22 = r\"C:\\Users\\gordo\\Code\\atlas\\data\\asg\\mc20_13TeV.410470.PhPy8EG_A14_ttbar_hdamp258p75_nonallhad.22.2.113.pool.root\"\n",
    "local_PHYS_r22 = r\"C:\\Users\\gordo\\Code\\atlas\\data\\asg\\mc_410470_ttbar.DAOD_PHYS.22.2.110.pool.root.1\""
   ]
  },
  {
   "attachments": {},
   "cell_type": "markdown",
   "metadata": {},
   "source": [
    "## Release 21 (Run 2 data)\n",
    "\n",
    "For data written with release 21. I'm running locally:\n",
    "\n",
    "* This means spinning up docker containers\n",
    "* Most (or all) of the queries were run before the demo - so the default ServiceX packages means the results are cached.\n",
    "* In most places I've written down the times they took so you can estimate..."
   ]
  },
  {
   "cell_type": "code",
   "execution_count": 3,
   "metadata": {},
   "outputs": [],
   "source": [
    "from func_adl_servicex_xaodr21 import SXDSAtlasxAODR21PHYS\n",
    "\n",
    "# These are needed b.c. we will play with calibration and systematic errors.\n",
    "from func_adl_servicex_xaodr21 import calib_tools as calib_tools_r21\n",
    "\n",
    "# If we want to run locally, however, not everything is configured simply.\n",
    "from func_adl_servicex import SXLocalxAOD\n",
    "from func_adl_servicex_xaodr21 import atlas_release as atlas_release_r21\n",
    "from func_adl_servicex_xaodr21.event_collection import Event as EventR21"
   ]
  },
  {
   "attachments": {},
   "cell_type": "markdown",
   "metadata": {},
   "source": [
    "The release that the package we are using were built from:"
   ]
  },
  {
   "cell_type": "code",
   "execution_count": 4,
   "metadata": {},
   "outputs": [
    {
     "name": "stdout",
     "output_type": "stream",
     "text": [
      "release = 21.2.247\n"
     ]
    }
   ],
   "source": [
    "print(f'release = {atlas_release_r21}')"
   ]
  },
  {
   "attachments": {},
   "cell_type": "markdown",
   "metadata": {},
   "source": [
    "Next, lets create the dataset. When using regular ServiceX this is one line. Things aren't as nice if you want to use docker running locally..."
   ]
  },
  {
   "cell_type": "code",
   "execution_count": 5,
   "metadata": {},
   "outputs": [
    {
     "name": "stderr",
     "output_type": "stream",
     "text": [
      "Found backend type matching \"xaod\". Matching by type is depreciated. Please switch to using the \"name\" keyword in your servicex.yaml file.\n",
      "Found backend type matching \"xaod\". Matching by type is depreciated. Please switch to using the \"name\" keyword in your servicex.yaml file.\n"
     ]
    }
   ],
   "source": [
    "# If you were running on servicex...\n",
    "# ds = SXDSAtlasxAODR21PHYS(rucio_ds_name)\n",
    "\n",
    "# To use the local docker\n",
    "ds = SXLocalxAOD[EventR21](\n",
    "    local_PHYS_r21,\n",
    "    item_type=EventR21,\n",
    "    docker_image=\"gitlab-registry.cern.ch/atlas/athena/analysisbase\",\n",
    "    docker_tag=atlas_release_r21,\n",
    "    )\n",
    "ds = calib_tools_r21.query_update(ds, calib_tools_r21.default_config(\"PHYS\"))"
   ]
  },
  {
   "attachments": {},
   "cell_type": "markdown",
   "metadata": {},
   "source": [
    "Now we can make the query (don't forget to convert ATLAS MeV to GeV)!"
   ]
  },
  {
   "cell_type": "code",
   "execution_count": 6,
   "metadata": {},
   "outputs": [
    {
     "name": "stdout",
     "output_type": "stream",
     "text": [
      "[[68.3, 25.4, 26.2, 11.9], [43.4], ... 45, 13.2], [52, 14.4, 13.2, 19.3, 12.9]]\n"
     ]
    }
   ],
   "source": [
    "jets = (\n",
    "    ds\n",
    "    .Select(lambda e: e.Jets())\n",
    "    .Select(lambda e: e.Select(lambda j: j.pt()/1000.0))\n",
    "    .as_awkward()\n",
    "    .value()\n",
    ")\n",
    "print(jets)"
   ]
  },
  {
   "cell_type": "code",
   "execution_count": 7,
   "metadata": {},
   "outputs": [
    {
     "data": {
      "image/png": "[encoded data removed]",
      "text/plain": [
       "<Figure size 640x480 with 1 Axes>"
      ]
     },
     "metadata": {},
     "output_type": "display_data"
    }
   ],
   "source": [
    "plt.hist(ak.flatten(jets), bins=50, range=(0, 150))\n",
    "plt.xlabel('Jet $p_T$ [GeV]')\n",
    "plt.show()"
   ]
  },
  {
   "attachments": {},
   "cell_type": "markdown",
   "metadata": {},
   "source": [
    "When I ran this the first time, it was 3 minutes and 33 seconds. Lets see the through put:"
   ]
  },
  {
   "cell_type": "code",
   "execution_count": 8,
   "metadata": {},
   "outputs": [
    {
     "name": "stdout",
     "output_type": "stream",
     "text": [
      "Rate = 281.6901408450704 Hz\n"
     ]
    }
   ],
   "source": [
    "print(f'Rate = {len(jets)/(3*60+33)} Hz')"
   ]
  },
  {
   "attachments": {},
   "cell_type": "markdown",
   "metadata": {},
   "source": [
    "## Release 22 data - PHYS\n",
    "\n",
    "Lets do the same thing for R22 data using a R24 release."
   ]
  },
  {
   "cell_type": "code",
   "execution_count": 9,
   "metadata": {},
   "outputs": [],
   "source": [
    "\n",
    "# from func_adl_servicex_xaodr24 import SXDSAtlasxAODR24PHYS, SXDSAtlasxAODR24PHYSLITE\n",
    "from func_adl_servicex_xaodr24 import calib_tools as calib_tools_r24\n",
    "\n",
    "# If we want to run locally, however, we have a little more work to do...\n",
    "from func_adl_servicex_xaodr24 import atlas_release as atlas_release_r24\n",
    "from func_adl_servicex_xaodr24.event_collection import Event as EventR24"
   ]
  },
  {
   "cell_type": "code",
   "execution_count": 10,
   "metadata": {},
   "outputs": [
    {
     "name": "stderr",
     "output_type": "stream",
     "text": [
      "Found backend type matching \"xaod\". Matching by type is depreciated. Please switch to using the \"name\" keyword in your servicex.yaml file.\n",
      "Found backend type matching \"xaod\". Matching by type is depreciated. Please switch to using the \"name\" keyword in your servicex.yaml file.\n"
     ]
    }
   ],
   "source": [
    "# ds = SXDSAtlasxAODR24PHYS(rucio_ds_name)\n",
    "\n",
    "ds_r22 = SXLocalxAOD[EventR24](\n",
    "    local_PHYS_r22,\n",
    "    item_type=EventR24,\n",
    "    docker_image=\"gitlab-registry.cern.ch/atlas/athena/analysisbase\",\n",
    "    docker_tag=atlas_release_r24,\n",
    "    )\n",
    "ds_r22 = calib_tools_r21.query_update(ds_r22, calib_tools_r24.default_config(\"PHYS\"))"
   ]
  },
  {
   "cell_type": "code",
   "execution_count": 11,
   "metadata": {},
   "outputs": [
    {
     "name": "stdout",
     "output_type": "stream",
     "text": [
      "[[52.3, 17.6, 11.3], [114, 13, 12], ... 17.8, 13.8], [124, 23.5, 20.8, 20.6, 18.3]]\n",
      "40000\n"
     ]
    }
   ],
   "source": [
    "jets_r22 = (\n",
    "    ds_r22\n",
    "    .Select(lambda e: e.Jets())\n",
    "    .Select(lambda e: e.Select(lambda j: j.pt()/1000.0))\n",
    "    .as_awkward()\n",
    "    .value()\n",
    ")\n",
    "print(jets_r22)\n",
    "print(len(jets_r22))"
   ]
  },
  {
   "cell_type": "code",
   "execution_count": 12,
   "metadata": {},
   "outputs": [
    {
     "data": {
      "image/png": "[encoded data removed]",
      "text/plain": [
       "<Figure size 640x480 with 1 Axes>"
      ]
     },
     "metadata": {},
     "output_type": "display_data"
    }
   ],
   "source": [
    "plt.hist(ak.flatten(jets_r22), bins=50, range=(0, 150))\n",
    "plt.xlabel('Jet $p_T$ [GeV]')\n",
    "plt.show()"
   ]
  },
  {
   "attachments": {},
   "cell_type": "markdown",
   "metadata": {},
   "source": [
    "When I ran that from scratch, that took 2 minutes and 25 seconds. What was the throughput?"
   ]
  },
  {
   "cell_type": "code",
   "execution_count": 13,
   "metadata": {},
   "outputs": [
    {
     "name": "stdout",
     "output_type": "stream",
     "text": [
      "Rate = 275.86206896551727 for 40000 jets\n"
     ]
    }
   ],
   "source": [
    "print(f'Rate = {len(jets_r22)/(2*60+25)} for {len(jets_r22)} jets')"
   ]
  },
  {
   "attachments": {},
   "cell_type": "markdown",
   "metadata": {},
   "source": [
    "## Release 22 Data - PHYSLITE\n",
    "\n",
    "`PHYSLITE` is ATLAS' `nanoAOD` - calibrated and small.\n",
    "\n",
    "Note the `PHYSLITE` config that is used - which changes how default calibrations are run (or not)."
   ]
  },
  {
   "cell_type": "code",
   "execution_count": 14,
   "metadata": {},
   "outputs": [
    {
     "name": "stderr",
     "output_type": "stream",
     "text": [
      "Found backend type matching \"xaod\". Matching by type is depreciated. Please switch to using the \"name\" keyword in your servicex.yaml file.\n",
      "Found backend type matching \"xaod\". Matching by type is depreciated. Please switch to using the \"name\" keyword in your servicex.yaml file.\n"
     ]
    }
   ],
   "source": [
    "# ds = SXDSAtlasxAODR24PHYSLITE(rucio_ds_name)\n",
    "\n",
    "ds_physlite_r22 = SXLocalxAOD[EventR24](\n",
    "    local_PHYSLITE_r22,\n",
    "    item_type=EventR24,\n",
    "    docker_image=\"gitlab-registry.cern.ch/atlas/athena/analysisbase\",\n",
    "    docker_tag=atlas_release_r24,\n",
    "    )\n",
    "ds_physlite_r22 = calib_tools_r21.query_update(ds_physlite_r22, calib_tools_r24.default_config(\"PHYSLITE\"))"
   ]
  },
  {
   "cell_type": "code",
   "execution_count": 15,
   "metadata": {},
   "outputs": [
    {
     "name": "stdout",
     "output_type": "stream",
     "text": [
      "[[94.9, 70, 33.8, 35.4, 22.6, 13.7], ... 81.5, 27.6, 24, 25.1, 19.9, 14.4, 15]]\n"
     ]
    }
   ],
   "source": [
    "jets_physlite_r22 = (\n",
    "    ds_physlite_r22\n",
    "    .Select(lambda e: e.Jets())\n",
    "    .Select(lambda e: e.Select(lambda j: j.pt()/1000.0))\n",
    "    .as_awkward()\n",
    "    .value()\n",
    ")\n",
    "print(jets_physlite_r22)"
   ]
  },
  {
   "cell_type": "code",
   "execution_count": 16,
   "metadata": {},
   "outputs": [
    {
     "data": {
      "image/png": "[encoded data removed]",
      "text/plain": [
       "<Figure size 640x480 with 1 Axes>"
      ]
     },
     "metadata": {},
     "output_type": "display_data"
    }
   ],
   "source": [
    "plt.hist(ak.flatten(jets_physlite_r22), bins=50, range=(0, 150))\n",
    "plt.xlabel('Jet $p_T$ [GeV]')\n",
    "plt.show()"
   ]
  },
  {
   "attachments": {},
   "cell_type": "markdown",
   "metadata": {},
   "source": [
    "This took 23 seconds to run, however it is only 100 events. And that is too few to really measure this considering the one-time overheads (C++ compile, etc.)."
   ]
  },
  {
   "cell_type": "code",
   "execution_count": 17,
   "metadata": {},
   "outputs": [
    {
     "name": "stdout",
     "output_type": "stream",
     "text": [
      "Rate = 5.05050505050505 for 100 jets\n"
     ]
    }
   ],
   "source": [
    "print(f'Rate = {len(jets_physlite_r22)/(19.8)} for {len(jets_physlite_r22)} jets')"
   ]
  },
  {
   "attachments": {},
   "cell_type": "markdown",
   "metadata": {},
   "source": [
    "## Calibrated and Uncalibrated"
   ]
  },
  {
   "attachments": {},
   "cell_type": "markdown",
   "metadata": {},
   "source": [
    "Very quickly - we can also look at the uncalibrated events - which is similar in speed to running on `PHYSLITE`."
   ]
  },
  {
   "cell_type": "code",
   "execution_count": 18,
   "metadata": {},
   "outputs": [
    {
     "name": "stdout",
     "output_type": "stream",
     "text": [
      "[[88.9, 67.1, 52, 50.9, 29.7, 15, 11.1], ... 17.2, 16.4, 15.6, 15, 13.4, 13.1, 12.2]]\n"
     ]
    }
   ],
   "source": [
    "jets_uncalib_r22 = (\n",
    "    ds_r22\n",
    "    .Select(lambda e: e.Jets(calibrate=False))\n",
    "    .Select(lambda e: e.Select(lambda j: j.pt()/1000.0))\n",
    "    .as_awkward()\n",
    "    .value()\n",
    ")\n",
    "print(jets_uncalib_r22)"
   ]
  },
  {
   "attachments": {},
   "cell_type": "markdown",
   "metadata": {},
   "source": [
    "Note that this took 31.6 seconds instead of 2 minutes and 5 seconds!"
   ]
  },
  {
   "cell_type": "code",
   "execution_count": 19,
   "metadata": {},
   "outputs": [
    {
     "name": "stdout",
     "output_type": "stream",
     "text": [
      "Rate = 1265.8227848101264 for 100 events\n"
     ]
    }
   ],
   "source": [
    "print(f'Rate = {len(jets_uncalib_r22)/(31.6)} for {len(jets_physlite_r22)} events')"
   ]
  },
  {
   "attachments": {},
   "cell_type": "markdown",
   "metadata": {},
   "source": [
    "This is about x5 times faster - and it gets better for more files or larger files."
   ]
  },
  {
   "cell_type": "code",
   "execution_count": 20,
   "metadata": {},
   "outputs": [
    {
     "data": {
      "image/png": "[encoded data removed]",
      "text/plain": [
       "<Figure size 640x480 with 1 Axes>"
      ]
     },
     "metadata": {},
     "output_type": "display_data"
    }
   ],
   "source": [
    "plt.hist(ak.flatten(jets_uncalib_r22), bins=50, range=(0, 150), label=\"uncalib\")\n",
    "plt.hist(ak.flatten(jets_r22), bins=50, range=(0, 150), label=\"calib\")\n",
    "plt.xlabel('Jet $p_T$ [GeV]')\n",
    "plt.legend()\n",
    "plt.show()"
   ]
  },
  {
   "attachments": {},
   "cell_type": "markdown",
   "metadata": {},
   "source": [
    "## A systematic error\n",
    "\n",
    "Currently a single systematic error is supported as a proof-of-concept.\n",
    "\n",
    "* ATLAS has 100+ of these errors\n",
    "* They don't affect all the branches\n",
    "* As Alex mentioned some affect just a weight and others affect values/columns of data.\n",
    "\n",
    "Big question for ServiceX: How to efficiently move this data between query and result?"
   ]
  },
  {
   "cell_type": "code",
   "execution_count": 21,
   "metadata": {},
   "outputs": [
    {
     "name": "stdout",
     "output_type": "stream",
     "text": [
      "[[52.5, 17.4, 11.2], [115, 12.8, 11.6], ... 18, 13.7], [126, 23.4, 20.5, 20.4, 18.1]]\n"
     ]
    }
   ],
   "source": [
    "sys_jets = calib_tools_r24.query_sys_error(ds_r22, 'JET_Pileup_PtTerm__1up')\n",
    "\n",
    "jets_sys_r22 = (\n",
    "    sys_jets\n",
    "    .Select(lambda e: e.Jets())\n",
    "    .Select(lambda e: e.Select(lambda j: j.pt()/1000.0))\n",
    "    .as_awkward()\n",
    "    .value()\n",
    ")\n",
    "print(jets_sys_r22)"
   ]
  },
  {
   "cell_type": "code",
   "execution_count": 22,
   "metadata": {},
   "outputs": [
    {
     "data": {
      "image/png": "[encoded data removed]",
      "text/plain": [
       "<Figure size 640x480 with 1 Axes>"
      ]
     },
     "metadata": {},
     "output_type": "display_data"
    }
   ],
   "source": [
    "plt.hist(ak.flatten(jets_sys_r22), bins=50, range=(0, 150), label=\"Pileup Systematic Error\")\n",
    "plt.hist(ak.flatten(jets_r22), bins=50, range=(0, 150), label=\"calib\")\n",
    "plt.xlabel('Jet $p_T$ [GeV]')\n",
    "plt.legend()\n",
    "plt.show()"
   ]
  },
  {
   "attachments": {},
   "cell_type": "markdown",
   "metadata": {},
   "source": [
    "And in PHYSLITE with a few caveats...\n",
    "\n",
    "* There is a bug in the ATLAS software - that means pileup corrections can't be applied again without a segfault.\n",
    "* For reasons I'm not aware, this file is missing Tau jets - and that makes overlap removal fail, so turned off for the demo."
   ]
  },
  {
   "cell_type": "code",
   "execution_count": 23,
   "metadata": {},
   "outputs": [
    {
     "data": {
      "text/plain": [
       "CalibrationEventConfig(jet_collection='AnalysisJets', jet_calib_truth_collection='AntiKt4TruthDressedWZJets', run_jet_ghost_muon_association=False, electron_collection='AnalysisElectrons', electron_working_point='MediumLHElectron', electron_isolation='NonIso', photon_collection='AnalysisPhotons', photon_working_point='Tight', photon_isolation='FixedCutTight', muon_collection='AnalysisMuons', muon_working_point='Medium', muon_isolation='NonIso', tau_collection='AnalysisTaus', tau_working_point='Tight', perform_overlap_removal=True, datatype='mc', correct_pileup=True, calibrate=False, uncalibrated_possible=False)"
      ]
     },
     "execution_count": 23,
     "metadata": {},
     "output_type": "execute_result"
    }
   ],
   "source": [
    "calib_tools_r24.default_config(\"PHYSLITE\")"
   ]
  },
  {
   "cell_type": "code",
   "execution_count": 24,
   "metadata": {},
   "outputs": [
    {
     "name": "stdout",
     "output_type": "stream",
     "text": [
      "[[90.8, 66.3, 33.7, 33.3, 23.9, 13.2], ... 77.5, 28.3, 25.2, 24.5, 16.5, 14.2, 14.1]]\n"
     ]
    }
   ],
   "source": [
    "sys_jets_lite = calib_tools_r24.query_sys_error(ds_physlite_r22, 'JET_Pileup_PtTerm__1up')\n",
    "sys_jets_lite = calib_tools_r24.query_update(sys_jets_lite, correct_pileup=False, perform_overlap_removal=False)\n",
    "\n",
    "jets_lite_sys_r22 = (\n",
    "    sys_jets_lite\n",
    "    .Select(lambda e: e.Jets())\n",
    "    .Select(lambda e: e.Select(lambda j: j.pt()/1000.0))\n",
    "    .as_awkward()\n",
    "    .value()\n",
    ")\n",
    "print(jets_lite_sys_r22)"
   ]
  },
  {
   "cell_type": "code",
   "execution_count": 25,
   "metadata": {},
   "outputs": [
    {
     "data": {
      "image/png": "[encoded data removed]",
      "text/plain": [
       "<Figure size 640x480 with 1 Axes>"
      ]
     },
     "metadata": {},
     "output_type": "display_data"
    }
   ],
   "source": [
    "plt.hist(ak.flatten(jets_lite_sys_r22), bins=50, range=(0, 150), label=\"Pileup Systematic Error\")\n",
    "plt.hist(ak.flatten(jets_physlite_r22), bins=50, range=(0, 150), label=\"calib\")\n",
    "plt.xlabel('Jet $p_T$ [GeV]')\n",
    "plt.legend()\n",
    "plt.show()"
   ]
  }
 ],
 "metadata": {
  "kernelspec": {
   "display_name": ".venv",
   "language": "python",
   "name": "python3"
  },
  "language_info": {
   "codemirror_mode": {
    "name": "ipython",
    "version": 3
   },
   "file_extension": ".py",
   "mimetype": "text/x-python",
   "name": "python",
   "nbconvert_exporter": "python",
   "pygments_lexer": "ipython3",
   "version": "3.10.7"
  },
  "orig_nbformat": 4
 },
 "nbformat": 4,
 "nbformat_minor": 2
}
